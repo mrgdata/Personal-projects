{
 "cells": [
  {
   "cell_type": "markdown",
   "metadata": {
    "collapsed": true
   },
   "source": [
    "# Entregable Modulo 1\n",
    "---------------------\n",
    "\n",
    "A continuación de presentan los diferentes ejercicios a realizar para el primer entregable del minor _Introducción a Python_.\n"
   ]
  },
  {
   "cell_type": "markdown",
   "metadata": {},
   "source": [
    "## ¡Empezemos!"
   ]
  },
  {
   "cell_type": "markdown",
   "metadata": {},
   "source": [
    "### 1. Ejercicios tipos de datos (2 puntos)"
   ]
  },
  {
   "cell_type": "markdown",
   "metadata": {},
   "source": [
    "En los tipos de datos hemos estado viendo los números, los strings, las tuplas, las listas, los diccionarios y los sets. Veamos que podemos hacer con ellos. "
   ]
  },
  {
   "cell_type": "markdown",
   "metadata": {},
   "source": [
    "__1. Considera la variable _texto_:__\n",
    "- ¿De qué tipo es la variable?\n",
    "- Substituye todas las letras con acento por letras sin acento (es decir, á por a, í por i...). \n",
    "- Pasa todo el téxto a letras mayúsculas\n",
    "- ¿En qué posición empieza el número de teléfono?\n",
    "- En la variable _numero_ guarda únicamente el número de teléfono a partir de una rebanada del texto original. \n",
    "- Quítale los espacios al número de telefono almacenado en _numero_\n",
    "- Transforma _numero_ en una variable del tipo numero entero. "
   ]
  },
  {
   "cell_type": "code",
   "execution_count": 1,
   "metadata": {},
   "outputs": [],
   "source": [
    "# Variable texto\n",
    "\n",
    "text = 'Hola, mi nombre es Germán Fernández y me gustaría que me llamaran al siguiente número de teléfono: +34 687 532651'"
   ]
  },
  {
   "cell_type": "code",
   "execution_count": 2,
   "metadata": {},
   "outputs": [
    {
     "data": {
      "text/plain": [
       "str"
      ]
     },
     "execution_count": 2,
     "metadata": {},
     "output_type": "execute_result"
    }
   ],
   "source": [
    "# ¿De qué tipo es la variable?\n",
    "type(text)\n",
    "# la variable es de tipo string "
   ]
  },
  {
   "cell_type": "code",
   "execution_count": null,
   "metadata": {},
   "outputs": [],
   "source": [
    "!pip install unidecode"
   ]
  },
  {
   "cell_type": "code",
   "execution_count": 3,
   "metadata": {},
   "outputs": [
    {
     "name": "stdout",
     "output_type": "stream",
     "text": [
      "Hola, mi nombre es German Fernandez y me gustaria que me llamaran al siguiente numero de telefono: +34 687 532651\n"
     ]
    }
   ],
   "source": [
    "# Substituye todas las letras con acento por letras sin acento (es decir, á por a, í por i...).\n",
    "import unidecode\n",
    "text_acentos = unidecode.unidecode(text)\n",
    "print(text_acentos)"
   ]
  },
  {
   "cell_type": "code",
   "execution_count": 4,
   "metadata": {},
   "outputs": [
    {
     "name": "stdout",
     "output_type": "stream",
     "text": [
      "HOLA, MI NOMBRE ES GERMÁN FERNÁNDEZ Y ME GUSTARÍA QUE ME LLAMARAN AL SIGUIENTE NÚMERO DE TELÉFONO: +34 687 532651\n"
     ]
    }
   ],
   "source": [
    "# Pasa todo el téxto a letras mayúsculas\n",
    "text_mayus = text.upper()\n",
    "print(text_mayus)"
   ]
  },
  {
   "cell_type": "code",
   "execution_count": 5,
   "metadata": {},
   "outputs": [
    {
     "data": {
      "text/plain": [
       "100"
      ]
     },
     "execution_count": 5,
     "metadata": {},
     "output_type": "execute_result"
    }
   ],
   "source": [
    "# ¿En qué posición empieza el número de teléfono?\n",
    "def encontrar_numero(string): # definimos una función que tenga como objeto el string\n",
    "    for i, char in enumerate(string): # recorremos el índice y los caracteres del string con un loop\n",
    "        if char.isdigit(): # si el caracter es un dígito, devolvemos el índice\n",
    "            return i  \n",
    "\n",
    "encontrar_numero(text)"
   ]
  },
  {
   "cell_type": "code",
   "execution_count": 6,
   "metadata": {},
   "outputs": [
    {
     "name": "stdout",
     "output_type": "stream",
     "text": [
      "34 687 532651\n"
     ]
    }
   ],
   "source": [
    "# En la variable numero guarda únicamente el número de teléfono a partir de una rebanada del texto original.\n",
    "texto_numero = text[100:]\n",
    "print(texto_numero)"
   ]
  },
  {
   "cell_type": "code",
   "execution_count": 7,
   "metadata": {},
   "outputs": [
    {
     "data": {
      "text/plain": [
       "'34687532651'"
      ]
     },
     "execution_count": 7,
     "metadata": {},
     "output_type": "execute_result"
    }
   ],
   "source": [
    "# Quítale los espacios al número de telefono almacenado en numero\n",
    "texto_numero_sin_espacios = texto_numero.replace(\" \", \"\")\n",
    "texto_numero_sin_espacios"
   ]
  },
  {
   "cell_type": "code",
   "execution_count": 8,
   "metadata": {},
   "outputs": [
    {
     "name": "stdout",
     "output_type": "stream",
     "text": [
      "<class 'int'>\n",
      "34687532651\n"
     ]
    }
   ],
   "source": [
    "# Transforma numero en una variable del tipo numero entero.\n",
    "texto_numero_sin_espacios_entero = int(texto_numero_sin_espacios)\n",
    "print(type(texto_numero_sin_espacios_entero))\n",
    "print(texto_numero_sin_espacios_entero)"
   ]
  },
  {
   "cell_type": "markdown",
   "metadata": {},
   "source": [
    "Comprueba __aquí__ algunas pistas. \n",
    "\n",
    "<!-- Pistas:\n",
    "- Recuerda funciones como upper(), find() y replace() que vimos en el notebook de strings. \n",
    "- Recuerda cómo comprobar el tipo de una variable y como cambiarlo.\n",
    "-->"
   ]
  },
  {
   "cell_type": "markdown",
   "metadata": {},
   "source": [
    "__2. Considera la variable _lista1_:__\n",
    "- ¿De qué tipo es la variable?\n",
    "- Elimina los espacios que hay dentro de lista1\n",
    "- Separa los difrentes elementos de la variable lista1 por las comas y guarda el resultado en la variable lista2\n",
    "- ¿De qué tipo es la variable lista2?\n",
    "- ¿En qué indice aparece \"1\"?\n",
    "- Cambia \"1\" por \"2\". \n",
    "- Elimina el elemento \"Hola\" de lista2\n",
    "- Crea una copia de lista2 en la variable _nueva_lista2_ de forma que los nuevos cambios que vamos a realizar no le afecten a lista2. \n",
    "- Añade en _nueva_lista2_ un nuevo elemento que contenga \"nueva\" entre los elementos \"la\" y \"variable\". \n",
    "- Añade la lista [\"y\", \"es\", \"una\", \"lista\"] al final del objeto _nueva_lista2_"
   ]
  },
  {
   "cell_type": "code",
   "execution_count": 9,
   "metadata": {},
   "outputs": [],
   "source": [
    "# Variable lista1\n",
    "\n",
    "lista1 = 'Hola, esta, es, la, variable, lista, 1'"
   ]
  },
  {
   "cell_type": "code",
   "execution_count": 10,
   "metadata": {},
   "outputs": [
    {
     "name": "stdout",
     "output_type": "stream",
     "text": [
      "Hola,esta,es,la,variable,lista,1\n"
     ]
    }
   ],
   "source": [
    "# Elimina los espacios que hay dentro de lista1\n",
    "import re\n",
    "lista1_sin_espacios = re.sub(r'\\s', '', lista1) # lo hacemos de forma diferente, usando regex\n",
    "print(lista1_sin_espacios)"
   ]
  },
  {
   "cell_type": "code",
   "execution_count": 11,
   "metadata": {},
   "outputs": [
    {
     "name": "stdout",
     "output_type": "stream",
     "text": [
      "['Hola', 'esta', 'es', 'la', 'variable', 'lista', '1']\n"
     ]
    }
   ],
   "source": [
    "# Separa los difrentes elementos de la variable lista1 por las comas y guarda el resultado en la variable lista2\n",
    "lista2 = lista1_sin_espacios.split(\",\")\n",
    "print(lista2)"
   ]
  },
  {
   "cell_type": "code",
   "execution_count": 12,
   "metadata": {},
   "outputs": [
    {
     "data": {
      "text/plain": [
       "6"
      ]
     },
     "execution_count": 12,
     "metadata": {},
     "output_type": "execute_result"
    }
   ],
   "source": [
    "# ¿En qué indice aparece \"1\"?\n",
    "def encontrar_numero_lista(lista): # definimos una función que tenga como objeto una lista\n",
    "    for i, elem in enumerate(lista): # recorremos el índice y los elementos de la lista\n",
    "        if elem.isdigit(): # si el caracter es un dígito, devolvemos el índice\n",
    "            return i  \n",
    "\n",
    "encontrar_numero(lista2)"
   ]
  },
  {
   "cell_type": "code",
   "execution_count": 13,
   "metadata": {},
   "outputs": [
    {
     "name": "stdout",
     "output_type": "stream",
     "text": [
      "['Hola', 'esta', 'es', 'la', 'variable', 'lista', '2']\n"
     ]
    }
   ],
   "source": [
    "# Cambia \"1\" por \"2\".\n",
    "for i, elem in enumerate(lista2):\n",
    "    if elem == '1':\n",
    "        lista2[i] = '2'\n",
    "\n",
    "print(lista2)"
   ]
  },
  {
   "cell_type": "code",
   "execution_count": 14,
   "metadata": {},
   "outputs": [
    {
     "name": "stdout",
     "output_type": "stream",
     "text": [
      "['Hola', 'esta', 'es', 'la', 'variable', 'lista', '2']\n"
     ]
    }
   ],
   "source": [
    "# Crea una copia de lista2 en la variable nueva_lista2 de forma que los nuevos cambios que vamos a realizar no le afecten a lista2.\n",
    "nueva_lista2 = lista2.copy()\n",
    "print(nueva_lista2)"
   ]
  },
  {
   "cell_type": "code",
   "execution_count": 15,
   "metadata": {},
   "outputs": [
    {
     "name": "stdout",
     "output_type": "stream",
     "text": [
      "['Hola', 'esta', 'es', 'nueva', 'la', 'variable', 'lista', '2']\n"
     ]
    }
   ],
   "source": [
    "# Añade en nueva_lista2 un nuevo elemento que contenga \"nueva\" entre los elementos \"la\" y \"variable\".\n",
    "index_after = nueva_lista2.index('la')\n",
    "\n",
    "nueva_lista2.insert(index_after, 'nueva')\n",
    "print(nueva_lista2)"
   ]
  },
  {
   "cell_type": "code",
   "execution_count": 16,
   "metadata": {},
   "outputs": [
    {
     "name": "stdout",
     "output_type": "stream",
     "text": [
      "['Hola', 'esta', 'es', 'nueva', 'la', 'variable', 'lista', '2', 'y', 'es', 'una', 'lista']\n"
     ]
    }
   ],
   "source": [
    "# Añade la lista [\"y\", \"es\", \"una\", \"lista\"] al final del objeto nueva_lista2\n",
    "lista3 = [\"y\", \"es\", \"una\", \"lista\"]\n",
    "nueva_lista2 = nueva_lista2 + lista3\n",
    "print(nueva_lista2)"
   ]
  },
  {
   "cell_type": "markdown",
   "metadata": {},
   "source": [
    "Comprueba __aquí__ algunas pistas. \n",
    "\n",
    "<!-- Pistas:\n",
    "- Recuerda la función split()\n",
    "- Para encontrar un indice dentro de una lista podemos usar la función index()\n",
    "- Recuerda que las listas son elementos mutables y hacemos referencia a sus elementos a partir de sus índices.\n",
    "-->"
   ]
  },
  {
   "cell_type": "markdown",
   "metadata": {},
   "source": [
    "__3. Considera las variables _nombres_ y _datos_ que muestran un conjunto de niños con su apellido y su edad:__\n",
    "- Crea un diccionario llamado _registros_ con los nombres como keys y los datos como valores\n",
    "- Obten los datos de Elena \n",
    "- Obten la edad de Marta usando el diccionario y los índices correspondientes (no queremos mostrar el apellido, solo la edad). \n",
    "- Obten los nombres de todos los niños que hay en el diccionario\n",
    "- Comprueba si hay alguna Julia en nuestro grupo de niños\n",
    "- Comprueba si hay algun Javi en el grupo de niños y si no lo hay que salga un mensaje diciendo _\"Esta persona no está en la lista\"_"
   ]
  },
  {
   "cell_type": "code",
   "execution_count": 17,
   "metadata": {},
   "outputs": [],
   "source": [
    "# Variables nombres y datos\n",
    "\n",
    "nombres = ['Pedro', 'Juan', 'Marta', 'Ana', 'Elena', 'Nuria', 'Andres', 'Jose', 'Ignacio', 'Patricia', 'Isabel', 'Raul']\n",
    "datos = [('Martinez', 12), ('Lopez', 16), ('Herrera', 14), ('Lopez', 14), ('Garcia', 9), ('Herrera', 16), ('Herrera', 15), ('Garcia', 13), ('Martinez', 14), ('Martinez', 11), ('Lopez', 10), ('Garcia', 12)]"
   ]
  },
  {
   "cell_type": "code",
   "execution_count": 18,
   "metadata": {},
   "outputs": [
    {
     "name": "stdout",
     "output_type": "stream",
     "text": [
      "{'Pedro': ('Martinez', 12), 'Juan': ('Lopez', 16), 'Marta': ('Herrera', 14), 'Ana': ('Lopez', 14), 'Elena': ('Garcia', 9), 'Nuria': ('Herrera', 16), 'Andres': ('Herrera', 15), 'Jose': ('Garcia', 13), 'Ignacio': ('Martinez', 14), 'Patricia': ('Martinez', 11), 'Isabel': ('Lopez', 10), 'Raul': ('Garcia', 12)}\n"
     ]
    }
   ],
   "source": [
    "# Crea un diccionario llamado registros con los nombres como keys y los datos como valores\n",
    "diccionario = {}\n",
    "\n",
    "for nombre, dato in zip(nombres, datos):\n",
    "    diccionario[nombre] = dato\n",
    "\n",
    "print(diccionario)"
   ]
  },
  {
   "cell_type": "code",
   "execution_count": 19,
   "metadata": {},
   "outputs": [
    {
     "name": "stdout",
     "output_type": "stream",
     "text": [
      "('Garcia', 9)\n"
     ]
    }
   ],
   "source": [
    "# Obten los datos de Elena\n",
    "for i in diccionario.keys():\n",
    "    if i == 'Elena':\n",
    "        print(diccionario[i])"
   ]
  },
  {
   "cell_type": "code",
   "execution_count": 20,
   "metadata": {},
   "outputs": [
    {
     "name": "stdout",
     "output_type": "stream",
     "text": [
      "14\n"
     ]
    }
   ],
   "source": [
    "# Obten la edad de Marta usando el diccionario y los índices correspondientes (no queremos mostrar el apellido, solo la edad).\n",
    "for nombre in diccionario.keys():\n",
    "    if nombre == \"Marta\":\n",
    "        print(diccionario[nombre][1])"
   ]
  },
  {
   "cell_type": "code",
   "execution_count": 21,
   "metadata": {},
   "outputs": [
    {
     "name": "stdout",
     "output_type": "stream",
     "text": [
      "Julia no está en el diccionario\n"
     ]
    }
   ],
   "source": [
    "# Comprueba si hay alguna Julia en nuestro grupo de niños\n",
    "if \"Julia\" in diccionario.keys():\n",
    "    print(\"Julia está en el diccionario\")\n",
    "else:\n",
    "    print(\"Julia no está en el diccionario\")"
   ]
  },
  {
   "cell_type": "code",
   "execution_count": 22,
   "metadata": {},
   "outputs": [
    {
     "name": "stdout",
     "output_type": "stream",
     "text": [
      "Esta persona no está en la lista\n"
     ]
    }
   ],
   "source": [
    "# Comprueba si hay algun Javi en el grupo de niños y si no lo hay que salga un mensaje diciendo _\"Esta persona no está en la lista\"_\n",
    "if \"Javi\" not in diccionario.keys():\n",
    "    print(\"Esta persona no está en la lista\")"
   ]
  },
  {
   "cell_type": "markdown",
   "metadata": {},
   "source": [
    "Comprueba __aquí__ algunas pistas. \n",
    "\n",
    "<!-- Pistas:\n",
    "- Recuerda que para crear un diccionario desde dos listas necesitamos \"dict()\" pero tambien \"zip()\n",
    "- Recuerda el uso de los indices en diccionarios pero tambien en tuplas\n",
    "-->"
   ]
  },
  {
   "cell_type": "markdown",
   "metadata": {},
   "source": [
    "__4. Considera las variables _castellano_, _ingles_ y _frances_ que muestran diferentes palabras en los diferentes idiomas:__\n",
    "- ¿De qué tipo son las tres variables?\n",
    "- ¿Qué longitud tiene cada una de ellas?\n",
    "- Crea tres sets con las información contenida en cada una de las tres variables llamados _cast_dict_, _ingl_dict_ y _fran_dict_\n",
    "- ¿Que longitud tiene cada uno de los sets? ¿Porque no coincide la longitud con el elemento original?\n",
    "- Añade \"Hola\" al set _cast_dict_\n",
    "- Comprueba si \"Hello\" está en el set _ingl_dict_\n",
    "- Obten las palabras que esten únicamente en _cast_dict_\n",
    "- Obten las palabras que coinciden en _cast_dict_ y _ingl_dict_\n",
    "- Obten las palabras que estén en _ingl_dict_ y no estén en _fran_dict_\n",
    "- Obten el total de palabras entre _cast_dict_ y _fran_dict_ (coincidentes y no coincidentes)"
   ]
  },
  {
   "cell_type": "code",
   "execution_count": 23,
   "metadata": {},
   "outputs": [],
   "source": [
    "# Variables nombres y datos\n",
    "\n",
    "castellano = ['Actor','Embargo','Religion','Actor', 'Accion','Estacion', 'Increible','Estacion,' 'Debut','Visible', 'Inspector','Horrible', 'Menu',  'Material', 'Vital','Tango', 'Avion' ,'Debate','Drama','Paella', 'Inaccesible' ,'Tomate', 'Bar','Ideal','Violin','Camion' 'Capital','Imposible', 'Hotel', 'Chocolate', 'Collar', 'Idea']\n",
    "ingles = ['Actor','Avocado', 'Inspector','Incredible', 'Station', 'Material', 'Religion', 'Vital','Debate','Drama', 'Bar', 'Visible','Horrible', 'Menu','Ideal','Violin', 'Capital','Hotel', 'Paella','Truck', 'Chocolate','Impossible', 'Collar', 'Action','Inaccessible' , 'Tango', 'Idea', 'Bread', 'Bird',  'Inspector','Incredible', 'Station', 'Material',  'Inspector','Incredible', 'Station', 'Material']\n",
    "frances = ['Acteur', 'Action','Embargo', 'Religion', 'Horrible','Embargo', 'Religion', 'Horrible', 'Inspecteur', 'Station', 'Menu', 'Materiel','Incredible', 'Vital','Debat','Drame', 'Debut','Bar','Ideal','Violon', 'Paella', 'Camion', 'Impossible', 'Inaccessible', 'Capital', 'Tomate','Hotel','Tango', 'Chocolat', ' Collier', 'Idee', 'Avion', 'Visible']"
   ]
  },
  {
   "cell_type": "code",
   "execution_count": 24,
   "metadata": {},
   "outputs": [
    {
     "name": "stdout",
     "output_type": "stream",
     "text": [
      "<class 'list'>\n",
      "<class 'list'>\n",
      "<class 'list'>\n"
     ]
    }
   ],
   "source": [
    "# ¿De qué tipo son las tres variables?\n",
    "print(type(castellano))\n",
    "print(type(ingles))\n",
    "print(type(frances))"
   ]
  },
  {
   "cell_type": "code",
   "execution_count": 25,
   "metadata": {},
   "outputs": [
    {
     "name": "stdout",
     "output_type": "stream",
     "text": [
      "la longitud de castellano es: 30\n",
      "la longitud de ingles es: 37\n",
      "la longitud de frances es: 33\n"
     ]
    }
   ],
   "source": [
    "#¿Qué longitud tiene cada una de ellas?\n",
    "print(f\"la longitud de castellano es: {len(castellano)}\")\n",
    "print(f\"la longitud de ingles es: {len(ingles)}\")\n",
    "print(f\"la longitud de frances es: {len(frances)}\")"
   ]
  },
  {
   "cell_type": "code",
   "execution_count": 26,
   "metadata": {},
   "outputs": [],
   "source": [
    "# Crea tres sets con las información contenida en cada una de las tres variables llamados cast_dict, ingl_dict y fran_dict\n",
    "cast_dict = set(castellano)\n",
    "ingl_dict = set(ingles)\n",
    "fran_dict = set(frances)"
   ]
  },
  {
   "cell_type": "code",
   "execution_count": 27,
   "metadata": {},
   "outputs": [
    {
     "name": "stdout",
     "output_type": "stream",
     "text": [
      "la longitud de castellano es: 29\n",
      "la longitud de ingles es: 29\n",
      "la longitud de frances es: 30\n",
      "No tienen la misma longitud porque el objetivo de la función set() es quitar duplicados de una lista\n"
     ]
    }
   ],
   "source": [
    "# ¿Que longitud tiene cada uno de los sets? ¿Porque no coincide la longitud con el elemento original?\n",
    "print(f\"la longitud de castellano es: {len(cast_dict)}\")\n",
    "print(f\"la longitud de ingles es: {len(ingl_dict)}\")\n",
    "print(f\"la longitud de frances es: {len(fran_dict)}\")\n",
    "\n",
    "print(\"No tienen la misma longitud porque el objetivo de la función set() es quitar duplicados de una lista\")"
   ]
  },
  {
   "cell_type": "code",
   "execution_count": 28,
   "metadata": {},
   "outputs": [
    {
     "name": "stdout",
     "output_type": "stream",
     "text": [
      "{'Chocolate', 'Material', 'CamionCapital', 'Ideal', 'Violin', 'Embargo', 'Drama', 'Bar', 'Paella', 'Estacion', 'Avion', 'Collar', 'Inaccesible', 'Hola', 'Imposible', 'Religion', 'Inspector', 'Visible', 'Debate', 'Idea', 'Horrible', 'Accion', 'Estacion,Debut', 'Tango', 'Increible', 'Hotel', 'Actor', 'Tomate', 'Vital', 'Menu'}\n"
     ]
    }
   ],
   "source": [
    "#Añade \"Hola\" al set cast_dict\n",
    "cast_dict.add(\"Hola\")\n",
    "print(cast_dict)"
   ]
  },
  {
   "cell_type": "code",
   "execution_count": 29,
   "metadata": {},
   "outputs": [
    {
     "name": "stdout",
     "output_type": "stream",
     "text": [
      "Hello is in not in ingl_dict\n"
     ]
    }
   ],
   "source": [
    "# Comprueba si \"Hello\" está en el set ingl_dict:\n",
    "if \"Hello\" in ingl_dict:\n",
    "    print(\"Hello is in ingl_dict:\")\n",
    "else:\n",
    "    print(\"Hello is in not in ingl_dict\")"
   ]
  },
  {
   "cell_type": "code",
   "execution_count": 30,
   "metadata": {},
   "outputs": [
    {
     "name": "stdout",
     "output_type": "stream",
     "text": [
      "{'Hola', 'Accion', 'Estacion,Debut', 'Imposible', 'Estacion', 'CamionCapital', 'Inaccesible', 'Increible'}\n"
     ]
    }
   ],
   "source": [
    "# Obten las palabras que esten únicamente en cast_dict\n",
    "palabras_castellano_solo = cast_dict - ingl_dict - fran_dict\n",
    "print(palabras_castellano_solo)"
   ]
  },
  {
   "cell_type": "code",
   "execution_count": 31,
   "metadata": {},
   "outputs": [
    {
     "name": "stdout",
     "output_type": "stream",
     "text": [
      "{'Chocolate', 'Material', 'Ideal', 'Violin', 'Drama', 'Bar', 'Paella', 'Collar', 'Religion', 'Inspector', 'Visible', 'Debate', 'Idea', 'Horrible', 'Tango', 'Hotel', 'Actor', 'Vital', 'Menu'}\n"
     ]
    }
   ],
   "source": [
    "# Obten las palabras que coinciden en cast_dict y ingl_dict\n",
    "palabras_coinciden = cast_dict & ingl_dict\n",
    "print(palabras_coinciden)"
   ]
  },
  {
   "cell_type": "code",
   "execution_count": 32,
   "metadata": {},
   "outputs": [
    {
     "name": "stdout",
     "output_type": "stream",
     "text": [
      "{'Chocolate', 'Material', 'Bird', 'Collar', 'Inspector', 'Actor', 'Idea', 'Violin', 'Bread', 'Debate', 'Truck', 'Drama', 'Avocado'}\n"
     ]
    }
   ],
   "source": [
    "# Obten las palabras que estén en ingl_dict y no estén en fran_dict\n",
    "palabras_ingles_solo = ingl_dict - fran_dict\n",
    "print(palabras_ingles_solo)"
   ]
  },
  {
   "cell_type": "code",
   "execution_count": 33,
   "metadata": {},
   "outputs": [
    {
     "name": "stdout",
     "output_type": "stream",
     "text": [
      "{'Chocolate', 'Material', 'Debat', 'CamionCapital', 'Debut', 'Ideal', 'Violin', 'Embargo', 'Incredible', 'Drama', 'Bar', 'Drame', 'Capital', 'Paella', 'Idee', 'Estacion', 'Avion', 'Collar', 'Station', 'Chocolat', 'Inaccesible', 'Camion', 'Inspecteur', 'Hola', 'Imposible', 'Violon', 'Inaccessible', 'Acteur', ' Collier', 'Religion', 'Inspector', 'Visible', 'Debate', 'Idea', 'Action', 'Horrible', 'Accion', 'Estacion,Debut', 'Impossible', 'Tango', 'Increible', 'Hotel', 'Actor', 'Tomate', 'Vital', 'Materiel', 'Menu'}\n"
     ]
    }
   ],
   "source": [
    "# Obten el total de palabras entre cast_dict y fran_dict (coincidentes y no coincidentes)\n",
    "total_palabras_fran_cast = fran_dict | cast_dict\n",
    "print(total_palabras_fran_cast)"
   ]
  },
  {
   "cell_type": "markdown",
   "metadata": {},
   "source": [
    "Comprueba __aquí__ algunas pistas. \n",
    "\n",
    "<!-- Pistas:\n",
    "- Repasa la union, intersección y diferencia entre sets\n",
    "-->"
   ]
  },
  {
   "cell_type": "markdown",
   "metadata": {},
   "source": [
    "<hr/>"
   ]
  },
  {
   "cell_type": "markdown",
   "metadata": {},
   "source": [
    "### 2. Ejercicios Programación (3.5 puntos)"
   ]
  },
  {
   "cell_type": "markdown",
   "metadata": {},
   "source": [
    "En el bloque de programación hemos estado viendo las condiciones _if_, los bucles _for_ y _while_ así como las funciones. Veamos qué podemos hacer con todos ellos. "
   ]
  },
  {
   "cell_type": "markdown",
   "metadata": {},
   "source": [
    "__5. Escribe la función _persona_ a la que le pases un nombre, una edad, un pais de nacimiento, un máster y el atributo \"M\" (masculino) y  \"F\" (femenino):__\n",
    "- En el caso de que quieras que se dirija a la persona en Femenino deberá decir: \"[nombre introducido], nacida en el año [año de nacimiento] en [pais de nacimiento], se presenta actualmente como alumna del master [master introducido]\"\n",
    "- En el caso de que quieras que se dirija a la persona en Masculino deberá decir: \"[nombre introducido], nacido en el año [año de nacimiento] en [pais de nacimiento], se presenta actualmente como alumno del master [master introducido]\"\n",
    "- En el caso en el que CUALQUIERA de las variables sea igual a \"X\" la función deberá devolver \"[nombre introducido], nacid@ en el año [año de nacimiento] en [pais de nacimiento], se presenta actualmente como alumn@ del master [master introducido]\" incluyendo \"Información no disponible\" en el campo que corresponda.\n",
    "- En el caso de que no se incluyan suficientes parametros de entrada, se incluyan demasiados, o haya más de un campo con \"X\", la función deberá devolver \"Información confidencial\". \n",
    "\n",
    "Nota: El año de nacimiento deberá ser calculado a partir del dato de edad\n"
   ]
  },
  {
   "cell_type": "code",
   "execution_count": 34,
   "metadata": {},
   "outputs": [],
   "source": [
    "def persona(nombre, edad, pais, master, genero):\n",
    "    año_nacimiento = \"\"\n",
    "    try:\n",
    "        edad = int(edad)\n",
    "        año = 2023 - edad\n",
    "    except:\n",
    "        año = \"Información no disponible\"\n",
    "    if genero == \"F\":\n",
    "        pronombre = \"nacida\"\n",
    "        pronombre_completo = \"alumna\"\n",
    "    elif genero == \"M\":\n",
    "        pronombre = \"nacido\"\n",
    "        pronombre_completo = \"alumno\"\n",
    "    \n",
    "    if any(element == \"X\" for element in [nombre, edad, pais, master, genero]):\n",
    "        element = \"Información no disponible\"\n",
    "        pronombre = \"nacid@\"\n",
    "        pronombre_completo = \"alumn@\"\n",
    "        \n",
    "    if sum(element == \"X\" for element in [nombre, edad, pais, master, genero]) > 1:\n",
    "        print(\"Información confidencial\")\n",
    "    elif any(element is None for element in [nombre, edad, pais, master, genero]):\n",
    "        print(\"Información confidencial\")\n",
    "    else:\n",
    "        print(f\"{nombre}, {pronombre} en el año {año} en {pais}, se presenta actualmente como {pronombre_completo} del master {master}\")"
   ]
  },
  {
   "cell_type": "code",
   "execution_count": 35,
   "metadata": {},
   "outputs": [
    {
     "name": "stdout",
     "output_type": "stream",
     "text": [
      "Julie, nacida en el año 2000 en Canadá, se presenta actualmente como alumna del master Organización Industrial\n",
      "Manuel, nacid@ en el año Información no disponible en México, se presenta actualmente como alumn@ del master Informatica\n",
      "Información confidencial\n"
     ]
    }
   ],
   "source": [
    "# Prueba tu codigo con los siguientes ejemplos \n",
    "\n",
    "persona('Julie', 23, 'Canadá', 'Organización Industrial', \"F\")\n",
    "persona('Manuel', \"X\", 'México', 'Informatica', \"M\")\n",
    "persona('Joel', \"X\", 'Inglaterra', \"X\", \"M\")"
   ]
  },
  {
   "cell_type": "markdown",
   "metadata": {},
   "source": [
    "Comprueba __aquí__ algunas pistas. \n",
    "\n",
    "<!-- Pistas:\n",
    "- Recuerda que pueden incluir condicionales if dentro de las funciones que definas \n",
    "-->"
   ]
  },
  {
   "cell_type": "markdown",
   "metadata": {},
   "source": [
    "__6. Escribe una función _numeros_ a la que le puedas pasar cualquier par de numeros enteros y te devuelva cada número entre ellos multiplicado por 5:__\n",
    "\n",
    "Ejemplo: al introducir numeros(1,4) la función deberá devolver lo siguiente: \n",
    "- 1 multiplicado por 5 es igual a: 5 \n",
    "- 2 multiplicado por 5 es igual a: 10 \n",
    "- 3 multiplicado por 5 es igual a: 15 \n",
    "- 4 multiplicado por 5 es igual a: 20 \n",
    "\n",
    "En el caso de que se introduzcan cualquier tipo de elemento distinto de un número (entero) a la función, esta debe devolver un mensaje de error. \n",
    "\n",
    "Nota: Ten cuidado al probar la función con numeros muy distantes puesto que puedes generar bucles que tarden mucho en acabar. "
   ]
  },
  {
   "cell_type": "code",
   "execution_count": 36,
   "metadata": {},
   "outputs": [],
   "source": [
    "def numeros(num1, num2):\n",
    "    if not isinstance(num1, int) or not isinstance(num2, int):\n",
    "        print(\"Error: al menos uno de los argumentos no es un entero\")\n",
    "        return None\n",
    "    lista_numeros = []\n",
    "    for num in range(num1, num2 + 1):\n",
    "        lista_numeros.append(num * 5)\n",
    "    return lista_numeros"
   ]
  },
  {
   "cell_type": "code",
   "execution_count": 37,
   "metadata": {},
   "outputs": [
    {
     "name": "stdout",
     "output_type": "stream",
     "text": [
      "Error: al menos uno de los argumentos no es un entero\n",
      "Error: al menos uno de los argumentos no es un entero\n"
     ]
    }
   ],
   "source": [
    "# Prueba tu codigo con los siguientes ejemplos \n",
    "numeros(30.5, 50)\n",
    "numeros('3', '12')"
   ]
  },
  {
   "cell_type": "code",
   "execution_count": 38,
   "metadata": {},
   "outputs": [
    {
     "data": {
      "text/plain": [
       "[100, 105, 110, 115, 120, 125, 130, 135]"
      ]
     },
     "execution_count": 38,
     "metadata": {},
     "output_type": "execute_result"
    }
   ],
   "source": [
    "numeros(20, 27)"
   ]
  },
  {
   "cell_type": "markdown",
   "metadata": {},
   "source": [
    "Comprueba __aquí__ algunas pistas. \n",
    "\n",
    "<!-- Pistas:\n",
    "- Puedes usar tanto un bucle for como un bucle while\n",
    "- Puedes usar un condicional para saber si el formato es correcto\n",
    "-->"
   ]
  },
  {
   "cell_type": "markdown",
   "metadata": {},
   "source": [
    "__7. Escribe una función _deletreo_ a la que le pueda pasar cualquier string y me lo devuelva letra por letra:__\n",
    "- En el caso de que se introduzca un elemento en la función que no sea un string, esta deberá devolver un mensaje de error del tipo \"Formato de entrada incorrecto\". \n"
   ]
  },
  {
   "cell_type": "code",
   "execution_count": 39,
   "metadata": {},
   "outputs": [],
   "source": [
    "def deletreo(texto):\n",
    "    if not isinstance(texto, str):\n",
    "        return \"Formato de entrada incorrecto\"\n",
    "\n",
    "    lista_letras = []\n",
    "    for letra in texto:\n",
    "        lista_letras.append(letra)\n",
    "    return lista_letras"
   ]
  },
  {
   "cell_type": "code",
   "execution_count": 40,
   "metadata": {},
   "outputs": [
    {
     "data": {
      "text/plain": [
       "['I',\n",
       " 'n',\n",
       " 't',\n",
       " 'e',\n",
       " 'r',\n",
       " 'd',\n",
       " 'i',\n",
       " 's',\n",
       " 'c',\n",
       " 'i',\n",
       " 'p',\n",
       " 'l',\n",
       " 'i',\n",
       " 'n',\n",
       " 'a',\n",
       " 'r',\n",
       " 'i',\n",
       " 'o']"
      ]
     },
     "execution_count": 40,
     "metadata": {},
     "output_type": "execute_result"
    }
   ],
   "source": [
    "deletreo('Interdisciplinario')"
   ]
  },
  {
   "cell_type": "code",
   "execution_count": 41,
   "metadata": {},
   "outputs": [
    {
     "data": {
      "text/plain": [
       "'Formato de entrada incorrecto'"
      ]
     },
     "execution_count": 41,
     "metadata": {},
     "output_type": "execute_result"
    }
   ],
   "source": [
    "deletreo(['Hola', 'clase'])"
   ]
  },
  {
   "cell_type": "code",
   "execution_count": 42,
   "metadata": {},
   "outputs": [
    {
     "data": {
      "text/plain": [
       "['1', '2', '3', '4', '5', '6']"
      ]
     },
     "execution_count": 42,
     "metadata": {},
     "output_type": "execute_result"
    }
   ],
   "source": [
    "deletreo('123456')"
   ]
  },
  {
   "cell_type": "code",
   "execution_count": 43,
   "metadata": {},
   "outputs": [
    {
     "data": {
      "text/plain": [
       "'Formato de entrada incorrecto'"
      ]
     },
     "execution_count": 43,
     "metadata": {},
     "output_type": "execute_result"
    }
   ],
   "source": [
    "deletreo(123456)"
   ]
  },
  {
   "cell_type": "markdown",
   "metadata": {},
   "source": [
    "Comprueba __aquí__ algunas pistas. \n",
    "\n",
    "<!-- Pistas:\n",
    "- Puedes usar tanto un bucle for como un bucle while\n",
    "- Puedes usar un condicional para saber si el formato es correcto\n",
    "-->"
   ]
  },
  {
   "cell_type": "markdown",
   "metadata": {},
   "source": [
    "<hr/>"
   ]
  },
  {
   "cell_type": "markdown",
   "metadata": {},
   "source": [
    "### 3. Ejercicios Numpy (1 punto)\n",
    "\n",
    "Numpy es una librería de Python comunmente utilizada para procesamiento numérico y análisis de datos. En este bloque hemos trabajado tanto en Numpy 1D como en Numpy para multiples dimensiones. \n",
    "\n",
    "**Nota**: No olvides importar la librería para poder trabajar"
   ]
  },
  {
   "cell_type": "markdown",
   "metadata": {},
   "source": [
    "__8. Crea una matrix de unos de dimensiones 2x3 y una matrix de numeros aleatorios de 2x3:__\n",
    "- Calcula el producto matricial de la matriz de numeros aleatorios transpuesta por la matrix de unos. \n",
    "\n"
   ]
  },
  {
   "cell_type": "code",
   "execution_count": null,
   "metadata": {},
   "outputs": [],
   "source": [
    "!pip install numpy"
   ]
  },
  {
   "cell_type": "code",
   "execution_count": 44,
   "metadata": {},
   "outputs": [],
   "source": [
    "import numpy as np\n",
    "\n",
    "#  Crea una matrix de unos de dimensiones 2x3 y una matrix de numeros aleatorios de 2x3:\n",
    "matriz_unos = np.ones((2, 3))\n",
    "matriz_aleatorios = np.random.rand(2, 3)"
   ]
  },
  {
   "cell_type": "code",
   "execution_count": 45,
   "metadata": {},
   "outputs": [
    {
     "name": "stdout",
     "output_type": "stream",
     "text": [
      "[[1.14118199 1.14118199 1.14118199]\n",
      " [1.24427479 1.24427479 1.24427479]\n",
      " [1.04476203 1.04476203 1.04476203]]\n"
     ]
    }
   ],
   "source": [
    "# Calcula el producto matricial de la matriz de numeros aleatorios transpuesta por la matrix de unos.\n",
    "producto = np.dot(matriz_aleatorios.T, matriz_unos)\n",
    "\n",
    "print(producto)"
   ]
  },
  {
   "cell_type": "markdown",
   "metadata": {},
   "source": [
    "Comprueba __aquí__ algunas pistas. \n",
    "\n",
    "<!-- Pistas:\n",
    "- Recuerda que tenemos funciones específicas de numpy tanto para crear arrays de numeros aleatorios como para crear arrays de unos.\n",
    "-->"
   ]
  },
  {
   "cell_type": "markdown",
   "metadata": {},
   "source": [
    "__9. Crea un numpy array que consista en una matriz 3x4 con los valores del 10 al 21:__\n",
    "- Usando np.where() encuentra y cambia el número 20 por 99 y todos los demás por el 2.  \n",
    "- Comprueba el tipo de los datos que tenemos dentro de la matriz \n",
    "- Cambia el tipo de los datos que tenemos en la matriz por numeros decimales"
   ]
  },
  {
   "cell_type": "code",
   "execution_count": 46,
   "metadata": {},
   "outputs": [
    {
     "data": {
      "text/plain": [
       "array([[10, 11, 12, 13],\n",
       "       [14, 15, 16, 17],\n",
       "       [18, 19, 20, 21]])"
      ]
     },
     "execution_count": 46,
     "metadata": {},
     "output_type": "execute_result"
    }
   ],
   "source": [
    "# Crea un numpy array que consista en una matriz 3x4 con los valores del 10 al 21:\n",
    "array = np.arange(10, 22).reshape(3,4)\n",
    "array"
   ]
  },
  {
   "cell_type": "code",
   "execution_count": 47,
   "metadata": {},
   "outputs": [
    {
     "data": {
      "text/plain": [
       "array([[ 2,  2,  2,  2],\n",
       "       [ 2,  2,  2,  2],\n",
       "       [ 2,  2, 99,  2]])"
      ]
     },
     "execution_count": 47,
     "metadata": {},
     "output_type": "execute_result"
    }
   ],
   "source": [
    "# Usando np.where() encuentra y cambia el número 20 por 99 y todos los demás por el 2.\n",
    "array = np.where(array == 20, 99, 2)\n",
    "array"
   ]
  },
  {
   "cell_type": "code",
   "execution_count": 48,
   "metadata": {},
   "outputs": [
    {
     "data": {
      "text/plain": [
       "dtype('int32')"
      ]
     },
     "execution_count": 48,
     "metadata": {},
     "output_type": "execute_result"
    }
   ],
   "source": [
    "# Comprueba el tipo de los datos que tenemos dentro de la matriz\n",
    "array.dtype"
   ]
  },
  {
   "cell_type": "code",
   "execution_count": 49,
   "metadata": {},
   "outputs": [
    {
     "data": {
      "text/plain": [
       "array([[ 2.,  2.,  2.,  2.],\n",
       "       [ 2.,  2.,  2.,  2.],\n",
       "       [ 2.,  2., 99.,  2.]])"
      ]
     },
     "execution_count": 49,
     "metadata": {},
     "output_type": "execute_result"
    }
   ],
   "source": [
    "# Cambia el tipo de los datos que tenemos en la matriz por numeros decimales\n",
    "array = array.astype(float)\n",
    "array"
   ]
  },
  {
   "cell_type": "markdown",
   "metadata": {},
   "source": [
    "Comprueba __aquí__ algunas pistas. \n",
    "\n",
    "<!-- Pistas:\n",
    "- Recuerda que podemos crear arrays con np.arrange()\n",
    "- Recuerda que podemos usar la función reshape() para cambiar la forma de los arrays segun las dimensiones que nos interesen\n",
    "- Recuerda que la función np.where nos permite buscar y modificar elementos directamente \n",
    "-->"
   ]
  },
  {
   "cell_type": "markdown",
   "metadata": {},
   "source": [
    "<hr/>"
   ]
  },
  {
   "cell_type": "markdown",
   "metadata": {},
   "source": [
    "### 4. Ejercicios Pandas (3.5 puntos)\n",
    "\n",
    "Pandas es una segunda librería de Python que hemos trabajado. Esta librería esta creada para facilitar el manejo y análisis de datos tabulares. En este bloque hemos leido archivos externos a Python procedentes de excel o csv, los hemos trabajado y posteriormente los hemos podido volver a guardar en archivos.\n",
    "\n",
    "**Nota**: No olvides importar la librería para poder trabajar"
   ]
  },
  {
   "cell_type": "markdown",
   "metadata": {},
   "source": [
    "__10. Lee los archivos `alquiler-madrid-municipios.csv` y `venta-madrid-municipios.csv` que hemos visto en clase:__\n",
    "- Cambia los nombres de las columnas por Distrito, Año, Trimestre y Distrito, Año, Trimestre y Precio_alquiler/Precio_venta según corresponda. \n",
    "- ¿Cual es el tamaño (numero de elementos y dimensiones) de cada tabla? ¿Qué columnas tiene cada tabla? ¿De qué tipos son los datos de cada columna?\n",
    "- ¿Hay filas duplicadas por completo? \n",
    "- ¿Cuantos municipios diferentes aparecen en cada tabla? ¿Cuáles?\n",
    "- ¿Cual es el primer año y trimestre de cada tabla? ¿Y el último?\n",
    "- Ordena la tabla de forma que los precios más recientes queden arriba (es decir, del más actual de año y trimestre al más antiguo)\n",
    "- Elimina todos los registros que se correpondan con la localidad \"Tres Cantos\"\n",
    "- ¿Hay algun valor nulo en alguna columna? Si es así, sustituyelo por la mediana de esa columna para ese año y trimestre (por ejemplo, si falta el precio de venta del primer trimestre de 2023 para un municipio, sustituyelo por la mediana de todos los precios de venta que si que tenemos del primer trimestre de 2023). Si no logras hacer este paso, puedes rellenar el dato con un 0 para continuar el ejercicio. \n",
    "- Funde las dos tablas por municipio, año y trimestre de forma que se te queden todos los datos de ambas tablas. A esta nueva tabla la llamaremos _precios_ ¿Se han generado nuevos valores nulos? Si es así, vuelve a repetir la operación del punto anterior.\n",
    "- A partir de la tabla _precios_, crea una nueva tabla que contenga únicamente una fila por municipio con su precio medio de venta y alquiler \n",
    "- A partir de la tabla _precios_, crea una nueva columna llamada _alquiler_ que se rellene con \"Barato\" para todas aquellas filas en las que el precio de alquiler sea menor o igual que 7, \"Caro\" para todas aquellas fllas en las que el precio de alquiler sea mayor o igual a 9 y \"Medio\" para todas las que estén enmedio entre \"Barato\" y \"Caro\". \n",
    "- Finalmente guarda la tabla _precios_ en un excel llamado _Resultados_ \n",
    "\n",
    "\n",
    "Nota: Puedes encontrar los archivos en los recursos del bloque de Pandas"
   ]
  },
  {
   "cell_type": "code",
   "execution_count": null,
   "metadata": {},
   "outputs": [],
   "source": [
    "!pip install pandas"
   ]
  },
  {
   "cell_type": "code",
   "execution_count": 50,
   "metadata": {},
   "outputs": [
    {
     "name": "stdout",
     "output_type": "stream",
     "text": [
      "Index(['municipio', 'ano', 'quarter', 'precio'], dtype='object')\n",
      "Index(['municipio', 'ano', 'quarter', 'precio'], dtype='object')\n"
     ]
    }
   ],
   "source": [
    "# Lee los archivos alquiler-madrid-municipios.csv y venta-madrid-municipios.csv que hemos visto en clase:\n",
    "import pandas as pd\n",
    "dfalq = pd.read_csv(\"alquiler-madrid-municipios.csv\")\n",
    "dfven = pd.read_csv(\"venta-madrid-municipios.csv\")\n",
    "print(dfalq.columns)\n",
    "print(dfven.columns)"
   ]
  },
  {
   "cell_type": "code",
   "execution_count": 51,
   "metadata": {},
   "outputs": [],
   "source": [
    "# Cambia los nombres de las columnas por Distrito, Año, Trimestre y Distrito, Año, Trimestre y Precio_alquiler/Precio_venta según corresponda.\n",
    "dfalq = dfven.rename(columns={'municipio': 'Distrito', 'ano': 'Año', 'quarter': 'Trimestre', 'precio': 'Precio_alquiler'})\n",
    "dfven = dfven.rename(columns={'municipio': 'Distrito', 'ano': 'Año', 'quarter': 'Trimestre', 'precio': 'Precio_venta'})"
   ]
  },
  {
   "cell_type": "code",
   "execution_count": 52,
   "metadata": {},
   "outputs": [
    {
     "data": {
      "text/plain": [
       "(3250, 4)"
      ]
     },
     "execution_count": 52,
     "metadata": {},
     "output_type": "execute_result"
    }
   ],
   "source": [
    "dfalq.shape"
   ]
  },
  {
   "cell_type": "code",
   "execution_count": 53,
   "metadata": {},
   "outputs": [
    {
     "name": "stdout",
     "output_type": "stream",
     "text": [
      "Alquiler\n",
      "Las dimensiones del dataset son (3250, 4),\n",
      "\n",
      "\n",
      "Las columnas y tipos de datos del dataset son\n",
      "<class 'pandas.core.frame.DataFrame'>\n",
      "RangeIndex: 3250 entries, 0 to 3249\n",
      "Data columns (total 4 columns):\n",
      " #   Column           Non-Null Count  Dtype  \n",
      "---  ------           --------------  -----  \n",
      " 0   Distrito         3250 non-null   object \n",
      " 1   Año              3250 non-null   int64  \n",
      " 2   Trimestre        3250 non-null   int64  \n",
      " 3   Precio_alquiler  2723 non-null   float64\n",
      "dtypes: float64(1), int64(2), object(1)\n",
      "memory usage: 101.7+ KB\n",
      "\n",
      "Venta\n",
      "Las dimensiones del dataset son (3250, 4),\n",
      "\n",
      "\n",
      "Las columnas y tipos de datos del dataset son\n",
      "<class 'pandas.core.frame.DataFrame'>\n",
      "RangeIndex: 3250 entries, 0 to 3249\n",
      "Data columns (total 4 columns):\n",
      " #   Column        Non-Null Count  Dtype  \n",
      "---  ------        --------------  -----  \n",
      " 0   Distrito      3250 non-null   object \n",
      " 1   Año           3250 non-null   int64  \n",
      " 2   Trimestre     3250 non-null   int64  \n",
      " 3   Precio_venta  2723 non-null   float64\n",
      "dtypes: float64(1), int64(2), object(1)\n",
      "memory usage: 101.7+ KB\n"
     ]
    },
    {
     "data": {
      "text/plain": [
       "{None}"
      ]
     },
     "execution_count": 53,
     "metadata": {},
     "output_type": "execute_result"
    }
   ],
   "source": [
    "# ¿Cual es el tamaño (numero de elementos y dimensiones) de cada tabla? ¿Qué columnas tiene cada tabla? ¿De qué tipos son los datos de cada columna?\n",
    "print(f\"\"\"Alquiler\n",
    "Las dimensiones del dataset son {dfalq.shape},\n",
    "\n",
    "\n",
    "Las columnas y tipos de datos del dataset son\"\"\")\n",
    "{dfalq.info()}\n",
    "print(f\"\"\"\n",
    "Venta\n",
    "Las dimensiones del dataset son {dfven.shape},\n",
    "\n",
    "\n",
    "Las columnas y tipos de datos del dataset son\"\"\")\n",
    "{dfven.info()}"
   ]
  },
  {
   "cell_type": "code",
   "execution_count": 54,
   "metadata": {},
   "outputs": [
    {
     "name": "stdout",
     "output_type": "stream",
     "text": [
      "True\n",
      "True\n",
      "No hay filas duplicadas por completo\n"
     ]
    }
   ],
   "source": [
    "#¿Hay filas duplicadas por completo?\n",
    "print(len(dfven) == len(dfven.drop_duplicates()))\n",
    "print(len(dfalq) == len(dfalq.drop_duplicates()))\n",
    "print(\"No hay filas duplicadas por completo\")"
   ]
  },
  {
   "cell_type": "code",
   "execution_count": 55,
   "metadata": {},
   "outputs": [
    {
     "name": "stdout",
     "output_type": "stream",
     "text": [
      "\n",
      "Los municipios presentes en el dataset de ventas son :['Alcalá De Henares' 'Alcobendas' 'Alcorcón' 'Algete' 'Alpedrete'\n",
      " 'Aranjuez' 'Arganda Del Rey' 'Arroyomolinos' 'Boadilla Del Monte'\n",
      " 'Brunete' 'Cercedilla' 'Ciempozuelos' 'Collado Villalba' 'Colmenar Viejo'\n",
      " 'Coslada' 'El Escorial' 'Fuenlabrada' 'Galapagar' 'Getafe' 'Guadarrama'\n",
      " 'Humanes De Madrid' 'La Moraleja' 'Leganés' 'Majadahonda'\n",
      " 'Manzanares El Real' 'Meco' 'Mejorada Del Campo' 'Molar El' 'Móstoles'\n",
      " 'Navalcarnero' 'Paracuellos Del Jarama' 'Parla' 'Pinto'\n",
      " 'Pozuelo De Alarcón' 'Rivas-Vacíamadrid' 'Rozas De Madrid (Las)'\n",
      " 'San Agustín De Guadalix' 'San Fernando De Henares'\n",
      " 'San Lorenzo Del Escorial' 'San Martín De La Vega'\n",
      " 'San Martín De Valdeiglesias' 'San Sebastián De Los Reyes'\n",
      " 'Sevilla La Nueva' 'Torrejón De Ardoz' 'Torrelodones' 'Tres Cantos'\n",
      " 'Valdemoro' 'Villanueva De La Cañada' 'Villanueva Del Pardillo'\n",
      " 'Villaviciosa De Odón'], un total de 50\n",
      "\n",
      "\n",
      "Los municipios presentes en el dataset de alquiler son :['Alcalá De Henares' 'Alcobendas' 'Alcorcón' 'Algete' 'Alpedrete'\n",
      " 'Aranjuez' 'Arganda Del Rey' 'Arroyomolinos' 'Boadilla Del Monte'\n",
      " 'Brunete' 'Cercedilla' 'Ciempozuelos' 'Collado Villalba' 'Colmenar Viejo'\n",
      " 'Coslada' 'El Escorial' 'Fuenlabrada' 'Galapagar' 'Getafe' 'Guadarrama'\n",
      " 'Humanes De Madrid' 'La Moraleja' 'Leganés' 'Majadahonda'\n",
      " 'Manzanares El Real' 'Meco' 'Mejorada Del Campo' 'Molar El' 'Móstoles'\n",
      " 'Navalcarnero' 'Paracuellos Del Jarama' 'Parla' 'Pinto'\n",
      " 'Pozuelo De Alarcón' 'Rivas-Vacíamadrid' 'Rozas De Madrid (Las)'\n",
      " 'San Agustín De Guadalix' 'San Fernando De Henares'\n",
      " 'San Lorenzo Del Escorial' 'San Martín De La Vega'\n",
      " 'San Martín De Valdeiglesias' 'San Sebastián De Los Reyes'\n",
      " 'Sevilla La Nueva' 'Torrejón De Ardoz' 'Torrelodones' 'Tres Cantos'\n",
      " 'Valdemoro' 'Villanueva De La Cañada' 'Villanueva Del Pardillo'\n",
      " 'Villaviciosa De Odón'], un total de 50\n"
     ]
    }
   ],
   "source": [
    "#¿Cuantos municipios diferentes aparecen en cada tabla? ¿Cuáles?\n",
    "print(f\"\"\"\n",
    "Los municipios presentes en el dataset de ventas son :{dfven.Distrito.unique()}, un total de {len(dfven.Distrito.unique())}\"\"\")\n",
    "print(f\"\"\"\n",
    "\n",
    "Los municipios presentes en el dataset de alquiler son :{dfalq.Distrito.unique()}, un total de {len(dfalq.Distrito.unique())}\"\"\")"
   ]
  },
  {
   "cell_type": "code",
   "execution_count": 56,
   "metadata": {},
   "outputs": [
    {
     "name": "stdout",
     "output_type": "stream",
     "text": [
      "La primera fecha del dataset de ventas es 2002, trimestre 2\n",
      "La última fecha del dataset de ventas es 2018, trimestre 2\n",
      "La primera fecha del dataset de alquiler es 2002, trimestre 2\n",
      "La última fecha del dataset de alquiler es 2018, trimestre 2\n"
     ]
    }
   ],
   "source": [
    "# ¿Cual es el primer año y trimestre de cada tabla? ¿Y el último?\n",
    "first_year = dfven['Año'].min()\n",
    "last_year = dfven['Año'].max()\n",
    "first_quarter = dfven[dfven['Año'] == first_year]['Trimestre'].min()\n",
    "last_quarter = dfven[dfven['Año'] == last_year]['Trimestre'].max()\n",
    "\n",
    "print(f\"La primera fecha del dataset de ventas es {first_year}, trimestre {first_quarter}\")\n",
    "print(f\"La última fecha del dataset de ventas es {last_year}, trimestre {last_quarter}\")\n",
    "\n",
    "first_year = dfalq['Año'].min()\n",
    "last_year = dfalq['Año'].max()\n",
    "first_quarter = dfalq[dfven['Año'] == first_year]['Trimestre'].min()\n",
    "last_quarter = dfalq[dfven['Año'] == last_year]['Trimestre'].max()\n",
    "print(f\"La primera fecha del dataset de alquiler es {first_year}, trimestre {first_quarter}\")\n",
    "print(f\"La última fecha del dataset de alquiler es {last_year}, trimestre {last_quarter}\")\n"
   ]
  },
  {
   "cell_type": "code",
   "execution_count": 57,
   "metadata": {},
   "outputs": [
    {
     "data": {
      "text/html": [
       "<div>\n",
       "<style scoped>\n",
       "    .dataframe tbody tr th:only-of-type {\n",
       "        vertical-align: middle;\n",
       "    }\n",
       "\n",
       "    .dataframe tbody tr th {\n",
       "        vertical-align: top;\n",
       "    }\n",
       "\n",
       "    .dataframe thead th {\n",
       "        text-align: right;\n",
       "    }\n",
       "</style>\n",
       "<table border=\"1\" class=\"dataframe\">\n",
       "  <thead>\n",
       "    <tr style=\"text-align: right;\">\n",
       "      <th></th>\n",
       "      <th>Distrito</th>\n",
       "      <th>Año</th>\n",
       "      <th>Trimestre</th>\n",
       "      <th>Precio_venta</th>\n",
       "    </tr>\n",
       "  </thead>\n",
       "  <tbody>\n",
       "    <tr>\n",
       "      <th>3200</th>\n",
       "      <td>Alcalá De Henares</td>\n",
       "      <td>2018</td>\n",
       "      <td>2</td>\n",
       "      <td>1747.305461</td>\n",
       "    </tr>\n",
       "    <tr>\n",
       "      <th>3201</th>\n",
       "      <td>Alcobendas</td>\n",
       "      <td>2018</td>\n",
       "      <td>2</td>\n",
       "      <td>2414.045288</td>\n",
       "    </tr>\n",
       "    <tr>\n",
       "      <th>3202</th>\n",
       "      <td>Alcorcón</td>\n",
       "      <td>2018</td>\n",
       "      <td>2</td>\n",
       "      <td>2081.124916</td>\n",
       "    </tr>\n",
       "    <tr>\n",
       "      <th>3203</th>\n",
       "      <td>Algete</td>\n",
       "      <td>2018</td>\n",
       "      <td>2</td>\n",
       "      <td>1624.959525</td>\n",
       "    </tr>\n",
       "    <tr>\n",
       "      <th>3204</th>\n",
       "      <td>Alpedrete</td>\n",
       "      <td>2018</td>\n",
       "      <td>2</td>\n",
       "      <td>1690.840537</td>\n",
       "    </tr>\n",
       "  </tbody>\n",
       "</table>\n",
       "</div>"
      ],
      "text/plain": [
       "               Distrito   Año  Trimestre  Precio_venta\n",
       "3200  Alcalá De Henares  2018          2   1747.305461\n",
       "3201         Alcobendas  2018          2   2414.045288\n",
       "3202           Alcorcón  2018          2   2081.124916\n",
       "3203             Algete  2018          2   1624.959525\n",
       "3204          Alpedrete  2018          2   1690.840537"
      ]
     },
     "execution_count": 57,
     "metadata": {},
     "output_type": "execute_result"
    }
   ],
   "source": [
    "# Ordena la tabla de forma que los precios más recientes queden arriba (es decir, del más actual de año y trimestre al más antiguo)\n",
    "dfven = dfven.sort_values(by=['Año', 'Trimestre'], ascending=False)\n",
    "dfalq = dfalq.sort_values(by=['Año', 'Trimestre'], ascending=False)\n",
    "dfven.head()"
   ]
  },
  {
   "cell_type": "code",
   "execution_count": 58,
   "metadata": {},
   "outputs": [],
   "source": [
    "# Elimina todos los registros que se correpondan con la localidad \"Tres Cantos\"\n",
    "dfven = dfven[dfven[\"Distrito\"] != \"Tres Cantos\"]\n",
    "dfalq = dfalq[dfalq[\"Distrito\"] != \"Tres Cantos\"]"
   ]
  },
  {
   "cell_type": "code",
   "execution_count": 59,
   "metadata": {},
   "outputs": [],
   "source": [
    "# ¿Hay algun valor nulo en alguna columna? Si es así, sustituyelo por la mediana de esa columna para ese año y trimestre (por ejemplo, si falta el precio de venta del primer trimestre de 2023 para un municipio, sustituyelo por la mediana de todos los precios de venta que si que tenemos del primer trimestre de 2023). Si no logras hacer este paso, puedes rellenar el dato con un 0 para continuar el ejercicio.\n",
    "precio_mediano_ven = dfven.groupby(['Año', 'Trimestre'])['Precio_venta'].transform('median')\n",
    "precio_mediano_alq = dfalq.groupby(['Año', 'Trimestre'])['Precio_alquiler'].transform('median')\n",
    "\n",
    "dfven['Precio_venta'] = dfven['Precio_venta'].fillna(precio_mediano_ven)\n",
    "dfalq['Precio_alquiler'] = dfalq['Precio_alquiler'].fillna(precio_mediano_alq)"
   ]
  },
  {
   "cell_type": "code",
   "execution_count": 60,
   "metadata": {},
   "outputs": [],
   "source": [
    "#Funde las dos tablas por municipio, año y trimestre de forma que se te queden todos los datos de ambas tablas. A esta nueva tabla la llamaremos precios ¿Se han generado nuevos valores nulos? Si es así, vuelve a repetir la operación del punto anterior.\n",
    "precios = pd.merge(dfven, dfalq, on=['Distrito', 'Año', 'Trimestre'])\n",
    "\n",
    "precio_mediano_ven = precios.groupby(['Año', 'Trimestre'])['Precio_venta'].transform('median')\n",
    "precio_mediano_alq = precios.groupby(['Año', 'Trimestre'])['Precio_alquiler'].transform('median')\n",
    "\n",
    "precios['Precio_venta'] = precios['Precio_venta'].fillna(precio_mediano_ven)\n",
    "precios['Precio_alquiler'] = precios['Precio_alquiler'].fillna(precio_mediano_alq)"
   ]
  },
  {
   "cell_type": "code",
   "execution_count": 61,
   "metadata": {},
   "outputs": [
    {
     "data": {
      "text/html": [
       "<div>\n",
       "<style scoped>\n",
       "    .dataframe tbody tr th:only-of-type {\n",
       "        vertical-align: middle;\n",
       "    }\n",
       "\n",
       "    .dataframe tbody tr th {\n",
       "        vertical-align: top;\n",
       "    }\n",
       "\n",
       "    .dataframe thead th {\n",
       "        text-align: right;\n",
       "    }\n",
       "</style>\n",
       "<table border=\"1\" class=\"dataframe\">\n",
       "  <thead>\n",
       "    <tr style=\"text-align: right;\">\n",
       "      <th></th>\n",
       "      <th>Distrito</th>\n",
       "      <th>Precio_venta</th>\n",
       "      <th>Precio_alquiler</th>\n",
       "    </tr>\n",
       "  </thead>\n",
       "  <tbody>\n",
       "    <tr>\n",
       "      <th>0</th>\n",
       "      <td>Alcalá De Henares</td>\n",
       "      <td>2047.008782</td>\n",
       "      <td>2047.008782</td>\n",
       "    </tr>\n",
       "    <tr>\n",
       "      <th>1</th>\n",
       "      <td>Alcobendas</td>\n",
       "      <td>2785.985320</td>\n",
       "      <td>2785.985320</td>\n",
       "    </tr>\n",
       "    <tr>\n",
       "      <th>2</th>\n",
       "      <td>Alcorcón</td>\n",
       "      <td>2285.838260</td>\n",
       "      <td>2285.838260</td>\n",
       "    </tr>\n",
       "    <tr>\n",
       "      <th>3</th>\n",
       "      <td>Algete</td>\n",
       "      <td>1988.420014</td>\n",
       "      <td>1988.420014</td>\n",
       "    </tr>\n",
       "    <tr>\n",
       "      <th>4</th>\n",
       "      <td>Alpedrete</td>\n",
       "      <td>2050.834081</td>\n",
       "      <td>2050.834081</td>\n",
       "    </tr>\n",
       "    <tr>\n",
       "      <th>5</th>\n",
       "      <td>Aranjuez</td>\n",
       "      <td>1792.414577</td>\n",
       "      <td>1792.414577</td>\n",
       "    </tr>\n",
       "    <tr>\n",
       "      <th>6</th>\n",
       "      <td>Arganda Del Rey</td>\n",
       "      <td>1923.478701</td>\n",
       "      <td>1923.478701</td>\n",
       "    </tr>\n",
       "    <tr>\n",
       "      <th>7</th>\n",
       "      <td>Arroyomolinos</td>\n",
       "      <td>2050.682290</td>\n",
       "      <td>2050.682290</td>\n",
       "    </tr>\n",
       "    <tr>\n",
       "      <th>8</th>\n",
       "      <td>Boadilla Del Monte</td>\n",
       "      <td>2890.965685</td>\n",
       "      <td>2890.965685</td>\n",
       "    </tr>\n",
       "    <tr>\n",
       "      <th>9</th>\n",
       "      <td>Brunete</td>\n",
       "      <td>2320.061289</td>\n",
       "      <td>2320.061289</td>\n",
       "    </tr>\n",
       "    <tr>\n",
       "      <th>10</th>\n",
       "      <td>Cercedilla</td>\n",
       "      <td>1984.524334</td>\n",
       "      <td>1984.524334</td>\n",
       "    </tr>\n",
       "    <tr>\n",
       "      <th>11</th>\n",
       "      <td>Ciempozuelos</td>\n",
       "      <td>1843.732307</td>\n",
       "      <td>1843.732307</td>\n",
       "    </tr>\n",
       "    <tr>\n",
       "      <th>12</th>\n",
       "      <td>Collado Villalba</td>\n",
       "      <td>2005.680929</td>\n",
       "      <td>2005.680929</td>\n",
       "    </tr>\n",
       "    <tr>\n",
       "      <th>13</th>\n",
       "      <td>Colmenar Viejo</td>\n",
       "      <td>2261.600463</td>\n",
       "      <td>2261.600463</td>\n",
       "    </tr>\n",
       "    <tr>\n",
       "      <th>14</th>\n",
       "      <td>Coslada</td>\n",
       "      <td>2283.273307</td>\n",
       "      <td>2283.273307</td>\n",
       "    </tr>\n",
       "    <tr>\n",
       "      <th>15</th>\n",
       "      <td>El Escorial</td>\n",
       "      <td>2057.473036</td>\n",
       "      <td>2057.473036</td>\n",
       "    </tr>\n",
       "    <tr>\n",
       "      <th>16</th>\n",
       "      <td>Fuenlabrada</td>\n",
       "      <td>1901.415249</td>\n",
       "      <td>1901.415249</td>\n",
       "    </tr>\n",
       "    <tr>\n",
       "      <th>17</th>\n",
       "      <td>Galapagar</td>\n",
       "      <td>1947.875893</td>\n",
       "      <td>1947.875893</td>\n",
       "    </tr>\n",
       "    <tr>\n",
       "      <th>18</th>\n",
       "      <td>Getafe</td>\n",
       "      <td>2191.335835</td>\n",
       "      <td>2191.335835</td>\n",
       "    </tr>\n",
       "    <tr>\n",
       "      <th>19</th>\n",
       "      <td>Guadarrama</td>\n",
       "      <td>1987.932275</td>\n",
       "      <td>1987.932275</td>\n",
       "    </tr>\n",
       "    <tr>\n",
       "      <th>20</th>\n",
       "      <td>Humanes De Madrid</td>\n",
       "      <td>1976.232671</td>\n",
       "      <td>1976.232671</td>\n",
       "    </tr>\n",
       "    <tr>\n",
       "      <th>21</th>\n",
       "      <td>La Moraleja</td>\n",
       "      <td>3914.358803</td>\n",
       "      <td>3914.358803</td>\n",
       "    </tr>\n",
       "    <tr>\n",
       "      <th>22</th>\n",
       "      <td>Leganés</td>\n",
       "      <td>2196.536122</td>\n",
       "      <td>2196.536122</td>\n",
       "    </tr>\n",
       "    <tr>\n",
       "      <th>23</th>\n",
       "      <td>Majadahonda</td>\n",
       "      <td>3073.291568</td>\n",
       "      <td>3073.291568</td>\n",
       "    </tr>\n",
       "    <tr>\n",
       "      <th>24</th>\n",
       "      <td>Manzanares El Real</td>\n",
       "      <td>2112.205812</td>\n",
       "      <td>2112.205812</td>\n",
       "    </tr>\n",
       "    <tr>\n",
       "      <th>25</th>\n",
       "      <td>Meco</td>\n",
       "      <td>1913.464525</td>\n",
       "      <td>1913.464525</td>\n",
       "    </tr>\n",
       "    <tr>\n",
       "      <th>26</th>\n",
       "      <td>Mejorada Del Campo</td>\n",
       "      <td>2082.950975</td>\n",
       "      <td>2082.950975</td>\n",
       "    </tr>\n",
       "    <tr>\n",
       "      <th>27</th>\n",
       "      <td>Molar El</td>\n",
       "      <td>2076.482836</td>\n",
       "      <td>2076.482836</td>\n",
       "    </tr>\n",
       "    <tr>\n",
       "      <th>28</th>\n",
       "      <td>Móstoles</td>\n",
       "      <td>1869.595819</td>\n",
       "      <td>1869.595819</td>\n",
       "    </tr>\n",
       "    <tr>\n",
       "      <th>29</th>\n",
       "      <td>Navalcarnero</td>\n",
       "      <td>1945.114213</td>\n",
       "      <td>1945.114213</td>\n",
       "    </tr>\n",
       "    <tr>\n",
       "      <th>30</th>\n",
       "      <td>Paracuellos Del Jarama</td>\n",
       "      <td>2333.522023</td>\n",
       "      <td>2333.522023</td>\n",
       "    </tr>\n",
       "    <tr>\n",
       "      <th>31</th>\n",
       "      <td>Parla</td>\n",
       "      <td>1717.340407</td>\n",
       "      <td>1717.340407</td>\n",
       "    </tr>\n",
       "    <tr>\n",
       "      <th>32</th>\n",
       "      <td>Pinto</td>\n",
       "      <td>2148.386952</td>\n",
       "      <td>2148.386952</td>\n",
       "    </tr>\n",
       "    <tr>\n",
       "      <th>33</th>\n",
       "      <td>Pozuelo De Alarcón</td>\n",
       "      <td>3434.329076</td>\n",
       "      <td>3434.329076</td>\n",
       "    </tr>\n",
       "    <tr>\n",
       "      <th>34</th>\n",
       "      <td>Rivas-Vacíamadrid</td>\n",
       "      <td>2199.352802</td>\n",
       "      <td>2199.352802</td>\n",
       "    </tr>\n",
       "    <tr>\n",
       "      <th>35</th>\n",
       "      <td>Rozas De Madrid (Las)</td>\n",
       "      <td>2919.655743</td>\n",
       "      <td>2919.655743</td>\n",
       "    </tr>\n",
       "    <tr>\n",
       "      <th>36</th>\n",
       "      <td>San Agustín De Guadalix</td>\n",
       "      <td>2191.688760</td>\n",
       "      <td>2191.688760</td>\n",
       "    </tr>\n",
       "    <tr>\n",
       "      <th>37</th>\n",
       "      <td>San Fernando De Henares</td>\n",
       "      <td>2394.055547</td>\n",
       "      <td>2394.055547</td>\n",
       "    </tr>\n",
       "    <tr>\n",
       "      <th>38</th>\n",
       "      <td>San Lorenzo Del Escorial</td>\n",
       "      <td>2191.822705</td>\n",
       "      <td>2191.822705</td>\n",
       "    </tr>\n",
       "    <tr>\n",
       "      <th>39</th>\n",
       "      <td>San Martín De La Vega</td>\n",
       "      <td>1665.926807</td>\n",
       "      <td>1665.926807</td>\n",
       "    </tr>\n",
       "    <tr>\n",
       "      <th>40</th>\n",
       "      <td>San Martín De Valdeiglesias</td>\n",
       "      <td>1807.202484</td>\n",
       "      <td>1807.202484</td>\n",
       "    </tr>\n",
       "    <tr>\n",
       "      <th>41</th>\n",
       "      <td>San Sebastián De Los Reyes</td>\n",
       "      <td>2642.534701</td>\n",
       "      <td>2642.534701</td>\n",
       "    </tr>\n",
       "    <tr>\n",
       "      <th>42</th>\n",
       "      <td>Sevilla La Nueva</td>\n",
       "      <td>1958.085662</td>\n",
       "      <td>1958.085662</td>\n",
       "    </tr>\n",
       "    <tr>\n",
       "      <th>43</th>\n",
       "      <td>Torrejón De Ardoz</td>\n",
       "      <td>1954.837029</td>\n",
       "      <td>1954.837029</td>\n",
       "    </tr>\n",
       "    <tr>\n",
       "      <th>44</th>\n",
       "      <td>Torrelodones</td>\n",
       "      <td>2563.907932</td>\n",
       "      <td>2563.907932</td>\n",
       "    </tr>\n",
       "    <tr>\n",
       "      <th>45</th>\n",
       "      <td>Valdemoro</td>\n",
       "      <td>1982.477522</td>\n",
       "      <td>1982.477522</td>\n",
       "    </tr>\n",
       "    <tr>\n",
       "      <th>46</th>\n",
       "      <td>Villanueva De La Cañada</td>\n",
       "      <td>2386.996161</td>\n",
       "      <td>2386.996161</td>\n",
       "    </tr>\n",
       "    <tr>\n",
       "      <th>47</th>\n",
       "      <td>Villanueva Del Pardillo</td>\n",
       "      <td>2392.648879</td>\n",
       "      <td>2392.648879</td>\n",
       "    </tr>\n",
       "    <tr>\n",
       "      <th>48</th>\n",
       "      <td>Villaviciosa De Odón</td>\n",
       "      <td>2587.161633</td>\n",
       "      <td>2587.161633</td>\n",
       "    </tr>\n",
       "  </tbody>\n",
       "</table>\n",
       "</div>"
      ],
      "text/plain": [
       "                       Distrito  Precio_venta  Precio_alquiler\n",
       "0             Alcalá De Henares   2047.008782      2047.008782\n",
       "1                    Alcobendas   2785.985320      2785.985320\n",
       "2                      Alcorcón   2285.838260      2285.838260\n",
       "3                        Algete   1988.420014      1988.420014\n",
       "4                     Alpedrete   2050.834081      2050.834081\n",
       "5                      Aranjuez   1792.414577      1792.414577\n",
       "6               Arganda Del Rey   1923.478701      1923.478701\n",
       "7                 Arroyomolinos   2050.682290      2050.682290\n",
       "8            Boadilla Del Monte   2890.965685      2890.965685\n",
       "9                       Brunete   2320.061289      2320.061289\n",
       "10                   Cercedilla   1984.524334      1984.524334\n",
       "11                 Ciempozuelos   1843.732307      1843.732307\n",
       "12             Collado Villalba   2005.680929      2005.680929\n",
       "13               Colmenar Viejo   2261.600463      2261.600463\n",
       "14                      Coslada   2283.273307      2283.273307\n",
       "15                  El Escorial   2057.473036      2057.473036\n",
       "16                  Fuenlabrada   1901.415249      1901.415249\n",
       "17                    Galapagar   1947.875893      1947.875893\n",
       "18                       Getafe   2191.335835      2191.335835\n",
       "19                   Guadarrama   1987.932275      1987.932275\n",
       "20            Humanes De Madrid   1976.232671      1976.232671\n",
       "21                  La Moraleja   3914.358803      3914.358803\n",
       "22                      Leganés   2196.536122      2196.536122\n",
       "23                  Majadahonda   3073.291568      3073.291568\n",
       "24           Manzanares El Real   2112.205812      2112.205812\n",
       "25                         Meco   1913.464525      1913.464525\n",
       "26           Mejorada Del Campo   2082.950975      2082.950975\n",
       "27                     Molar El   2076.482836      2076.482836\n",
       "28                     Móstoles   1869.595819      1869.595819\n",
       "29                 Navalcarnero   1945.114213      1945.114213\n",
       "30       Paracuellos Del Jarama   2333.522023      2333.522023\n",
       "31                        Parla   1717.340407      1717.340407\n",
       "32                        Pinto   2148.386952      2148.386952\n",
       "33           Pozuelo De Alarcón   3434.329076      3434.329076\n",
       "34            Rivas-Vacíamadrid   2199.352802      2199.352802\n",
       "35        Rozas De Madrid (Las)   2919.655743      2919.655743\n",
       "36      San Agustín De Guadalix   2191.688760      2191.688760\n",
       "37      San Fernando De Henares   2394.055547      2394.055547\n",
       "38     San Lorenzo Del Escorial   2191.822705      2191.822705\n",
       "39        San Martín De La Vega   1665.926807      1665.926807\n",
       "40  San Martín De Valdeiglesias   1807.202484      1807.202484\n",
       "41   San Sebastián De Los Reyes   2642.534701      2642.534701\n",
       "42             Sevilla La Nueva   1958.085662      1958.085662\n",
       "43            Torrejón De Ardoz   1954.837029      1954.837029\n",
       "44                 Torrelodones   2563.907932      2563.907932\n",
       "45                    Valdemoro   1982.477522      1982.477522\n",
       "46      Villanueva De La Cañada   2386.996161      2386.996161\n",
       "47      Villanueva Del Pardillo   2392.648879      2392.648879\n",
       "48         Villaviciosa De Odón   2587.161633      2587.161633"
      ]
     },
     "execution_count": 61,
     "metadata": {},
     "output_type": "execute_result"
    }
   ],
   "source": [
    "# A partir de la tabla precios, crea una nueva tabla que contenga únicamente una fila por municipio con su precio medio de venta y alquiler\n",
    "precios_medios = precios.groupby(['Distrito'])[['Precio_venta', 'Precio_alquiler']].mean().reset_index()\n",
    "precios_medios"
   ]
  },
  {
   "cell_type": "code",
   "execution_count": 62,
   "metadata": {},
   "outputs": [],
   "source": [
    "# A partir de la tabla precios, crea una nueva columna llamada alquiler que se rellene con \"Barato\" para todas aquellas filas en las que el precio de alquiler sea menor o igual que 7, \"Caro\" para todas aquellas fllas en las que el precio de alquiler sea mayor o igual a 9 y \"Medio\" para todas las que estén enmedio entre \"Barato\" y \"Caro\".\n",
    "precios['alquiler'] = precios['Precio_alquiler'].apply(lambda x: \"Barato\" if x <= 7 else \"Caro\" if x >=9 else \"Medio\")"
   ]
  },
  {
   "cell_type": "code",
   "execution_count": 63,
   "metadata": {},
   "outputs": [],
   "source": [
    "# Finalmente guarda la tabla precios en un excel llamado Resultados\n",
    "precios.to_excel(\"Resultados.xlsx\", index=False)"
   ]
  },
  {
   "cell_type": "markdown",
   "metadata": {},
   "source": [
    "Comprueba __aquí__ algunas pistas. \n",
    "\n",
    "<!-- Pistas:\n",
    "- Recuerda las diferentes funciones que hemos visto para Pandas\n",
    "- Seguramente te serán utiles las funciones merge() y groupby()\n",
    "-->"
   ]
  }
 ],
 "metadata": {
  "kernelspec": {
   "display_name": "Python 3 (ipykernel)",
   "language": "python",
   "name": "python3"
  },
  "language_info": {
   "codemirror_mode": {
    "name": "ipython",
    "version": 3
   },
   "file_extension": ".py",
   "mimetype": "text/x-python",
   "name": "python",
   "nbconvert_exporter": "python",
   "pygments_lexer": "ipython3",
   "version": "3.9.13"
  }
 },
 "nbformat": 4,
 "nbformat_minor": 2
}
